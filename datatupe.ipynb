{
 "cells": [
  {
   "cell_type": "code",
   "execution_count": 1,
   "metadata": {},
   "outputs": [
    {
     "data": {
      "text/plain": [
       "list"
      ]
     },
     "execution_count": 1,
     "metadata": {},
     "output_type": "execute_result"
    }
   ],
   "source": [
    "a=[1,8,9,25,36,65,58]\n",
    "type (a)\n"
   ]
  },
  {
   "cell_type": "code",
   "execution_count": null,
   "metadata": {},
   "outputs": [],
   "source": []
  },
  {
   "cell_type": "code",
   "execution_count": null,
   "metadata": {},
   "outputs": [],
   "source": []
  },
  {
   "cell_type": "code",
   "execution_count": null,
   "metadata": {},
   "outputs": [],
   "source": []
  },
  {
   "cell_type": "code",
   "execution_count": 11,
   "metadata": {},
   "outputs": [
    {
     "name": "stdout",
     "output_type": "stream",
     "text": [
      "[1, 8, 9, 25, 36, 65, 58]\n",
      "[253, 215.668, 'guvi'] [1, 8, 9, 25, 36, 65, 58]\n"
     ]
    }
   ],
   "source": [
    "print(a)\n",
    "b=[253,215.668,\"guvi\"]\n",
    "print(b,a)\n"
   ]
  },
  {
   "cell_type": "code",
   "execution_count": 10,
   "metadata": {},
   "outputs": [
    {
     "name": "stdout",
     "output_type": "stream",
     "text": [
      "9\n",
      "[1, 8, 9, 25]\n",
      "[9, 25, 36, 65]\n",
      "[1, 9, 36, 58]\n",
      "[1, 8, 9, 25]\n",
      "[9, 25, 36, 65, 58]\n",
      "[58, 65, 36, 25, 9, 8, 1]\n"
     ]
    }
   ],
   "source": [
    "print(a[2])\n",
    "print(a[0:4])\n",
    "print(a[2:6])\n",
    "print(a[0:7:2])\n",
    "print(a[:4])\n",
    "print(a[2:])\n",
    "print(a[::-1])"
   ]
  },
  {
   "cell_type": "code",
   "execution_count": 1,
   "metadata": {},
   "outputs": [
    {
     "name": "stdout",
     "output_type": "stream",
     "text": [
      "[2, 3, 4, 'Immu', 1, 3, 4, [1, 3, 4]]\n"
     ]
    }
   ],
   "source": [
    "#extend\n",
    "a=[2,3,4,\"Immu\"]\n",
    "a.extend([1,3,4])\n",
    "a.append([1,3,4])\n",
    "print(a)"
   ]
  },
  {
   "cell_type": "code",
   "execution_count": 2,
   "metadata": {},
   "outputs": [
    {
     "name": "stdout",
     "output_type": "stream",
     "text": [
      "[2, 3, 'Rebi', 4, 'Immu', 1, 3, 4, [1, 3, 4]]\n"
     ]
    }
   ],
   "source": [
    "#insert - to find the value\n",
    "a.insert(2,\"Rebi\")\n",
    "print(a)\n"
   ]
  },
  {
   "cell_type": "code",
   "execution_count": 5,
   "metadata": {},
   "outputs": [
    {
     "data": {
      "text/plain": [
       "2"
      ]
     },
     "execution_count": 5,
     "metadata": {},
     "output_type": "execute_result"
    }
   ],
   "source": [
    "#index- find the data in the value\n",
    "\n",
    "a.index(\"Rebi\")\n"
   ]
  },
  {
   "cell_type": "code",
   "execution_count": 9,
   "metadata": {},
   "outputs": [
    {
     "name": "stdout",
     "output_type": "stream",
     "text": [
      "[2, 3, 4, 'Immu', 1, 3, 4, [1, 3, 4]]\n",
      "Rebi\n"
     ]
    }
   ],
   "source": [
    "#POP - temporily remove an element\n",
    "\n",
    "c=a.pop(2)\n",
    "print(a)\n",
    "print(c)"
   ]
  },
  {
   "cell_type": "code",
   "execution_count": null,
   "metadata": {},
   "outputs": [],
   "source": [
    "#delete - del : to permantly deletean element from the memory.(not only the list)\n",
    "del c[1]\n",
    "print(c)"
   ]
  },
  {
   "cell_type": "code",
   "execution_count": 6,
   "metadata": {},
   "outputs": [
    {
     "name": "stdout",
     "output_type": "stream",
     "text": [
      "[900, 879, 786, 30, 27]\n"
     ]
    }
   ],
   "source": [
    "#sort : to sort the list in the ascending order,use reverse=True to sort in descending order\n",
    "\n",
    "e=[30,27,879,900,786]\n",
    "e.sort(reverse=True)\n",
    "print(e)\n"
   ]
  },
  {
   "cell_type": "code",
   "execution_count": 8,
   "metadata": {},
   "outputs": [
    {
     "name": "stdout",
     "output_type": "stream",
     "text": [
      "900\n",
      "27\n",
      "2622\n"
     ]
    }
   ],
   "source": [
    "#max-find the maximum value\n",
    "#min-minimum value\n",
    "#sum- add the value\n",
    "\n",
    "print(max(e))\n",
    "print(min(e))\n",
    "print(sum(e))"
   ]
  },
  {
   "cell_type": "code",
   "execution_count": null,
   "metadata": {},
   "outputs": [],
   "source": [
    "#tuple - Heterogeneous,immutable, ordered(by index)"
   ]
  },
  {
   "cell_type": "code",
   "execution_count": 10,
   "metadata": {},
   "outputs": [
    {
     "name": "stdout",
     "output_type": "stream",
     "text": [
      "(23, 45, 56, 'Glory')\n"
     ]
    }
   ],
   "source": [
    "x=(23,45,56,'Glory')\n",
    "print(x)\n"
   ]
  },
  {
   "cell_type": "code",
   "execution_count": 11,
   "metadata": {},
   "outputs": [
    {
     "name": "stdout",
     "output_type": "stream",
     "text": [
      "23\n"
     ]
    }
   ],
   "source": [
    "x,y,z,a=(23,45,56,'Glory')\n",
    "print(x)"
   ]
  },
  {
   "cell_type": "code",
   "execution_count": 12,
   "metadata": {},
   "outputs": [
    {
     "name": "stdout",
     "output_type": "stream",
     "text": [
      "23\n",
      "45\n",
      "56\n",
      "Glory\n"
     ]
    }
   ],
   "source": [
    "x,y,z,a=(23,45,56,'Glory')\n",
    "print(x)\n",
    "print(y)\n",
    "print(z)\n",
    "print(a)"
   ]
  },
  {
   "cell_type": "code",
   "execution_count": 15,
   "metadata": {},
   "outputs": [
    {
     "name": "stdout",
     "output_type": "stream",
     "text": [
      "56\n"
     ]
    }
   ],
   "source": [
    "x=(23,45,56,'Glory')\n",
    "print(x[2])\n"
   ]
  },
  {
   "cell_type": "code",
   "execution_count": null,
   "metadata": {},
   "outputs": [],
   "source": [
    "#Strings\n",
    "# functions of strings\n",
    "#upper- uppercase the string completely\n",
    "#capitalize-uppercase the first letter of the string \n",
    "#lower-lowercase the string completely\n",
    "#count-count the character in the string\n",
    "#v.find- find the 1st index value of a character in a string\n",
    "#v.rfind- find the right most index value of the character in a string\n",
    "#len(variable)- total of length the value "
   ]
  },
  {
   "cell_type": "code",
   "execution_count": 18,
   "metadata": {},
   "outputs": [
    {
     "name": "stdout",
     "output_type": "stream",
     "text": [
      "HAPPY BIRTHDAY\n",
      "Happy birthday\n",
      "happy birthday\n",
      "2\n"
     ]
    }
   ],
   "source": [
    "s='Happy Birthday'\n",
    "print(s.upper())\n",
    "print(s.capitalize())\n",
    "print(s.lower())\n",
    "print(s.count('a'))"
   ]
  },
  {
   "cell_type": "code",
   "execution_count": 19,
   "metadata": {},
   "outputs": [
    {
     "name": "stdout",
     "output_type": "stream",
     "text": [
      "HAPPY BIRTHDAY\n",
      "Happy birthday\n",
      "happy birthday\n",
      "2\n",
      "-1\n"
     ]
    }
   ],
   "source": [
    "s='Happy Birthday'\n",
    "print(s.upper())\n",
    "print(s.capitalize())\n",
    "print(s.lower())\n",
    "print(s.count('a'))\n",
    "print(s.find('o'))"
   ]
  },
  {
   "cell_type": "code",
   "execution_count": 23,
   "metadata": {},
   "outputs": [
    {
     "name": "stdout",
     "output_type": "stream",
     "text": [
      "HAPPY BIRTHDAY\n",
      "Happy birthday\n",
      "happy birthday\n",
      "2\n",
      "9\n",
      "13\n",
      "14\n"
     ]
    }
   ],
   "source": [
    "s='Happy Birthday'\n",
    "print(s.upper())\n",
    "print(s.capitalize())\n",
    "print(s.lower())\n",
    "print(s.count('a'))\n",
    "print(s.find('t'))\n",
    "print(s.rfind('y'))\n",
    "print(len(s))"
   ]
  },
  {
   "cell_type": "code",
   "execution_count": 25,
   "metadata": {},
   "outputs": [
    {
     "name": "stdout",
     "output_type": "stream",
     "text": [
      "['12', '34', '56', '78', '910']\n",
      "i Hello\n",
      "['today', 'is', 'my', 'birthday,', 'have', 'a', 'pleasant', 'day']\n"
     ]
    }
   ],
   "source": [
    "a='today is my birthday, have a pleasant day'\n",
    "b='Hi HelloH'\n",
    "c='Government'\n",
    "d='12 34 56 78 910'\n",
    "print(d.split())     #split in the space and prints in the list.\n",
    "print(b.strip('H'))  #Removes the element/space only in the corners.\n",
    "print(a.split())"
   ]
  },
  {
   "cell_type": "code",
   "execution_count": 27,
   "metadata": {},
   "outputs": [
    {
     "name": "stdout",
     "output_type": "stream",
     "text": [
      "['skydrive']\n",
      "skydrive\n"
     ]
    }
   ],
   "source": [
    "a=input().split()      # use split funvtion to get list inputs.\n",
    "print(a)\n",
    "print(\"y\".join(a))      #join/combines the string by the character given in the \"\""
   ]
  },
  {
   "cell_type": "code",
   "execution_count": 28,
   "metadata": {},
   "outputs": [
    {
     "name": "stdout",
     "output_type": "stream",
     "text": [
      "m\n",
      "o\n",
      "r\n",
      "n\n",
      "i\n",
      "n\n",
      "g\n"
     ]
    }
   ],
   "source": [
    "a=input()\n",
    "print(\"\\n\".join(a))    #\\n New line(prints in a new line)"
   ]
  },
  {
   "cell_type": "code",
   "execution_count": 33,
   "metadata": {},
   "outputs": [
    {
     "name": "stdout",
     "output_type": "stream",
     "text": [
      "g\tu\tv\ti\n"
     ]
    }
   ],
   "source": [
    "a=input()\n",
    "print(\"\\t\".join(a))    #\\t = tab(prints in a tab space)"
   ]
  },
  {
   "cell_type": "code",
   "execution_count": 36,
   "metadata": {},
   "outputs": [
    {
     "name": "stdout",
     "output_type": "stream",
     "text": [
      "1\n",
      "2\n",
      "3\n",
      "4\n",
      "5\n",
      "6\n"
     ]
    }
   ],
   "source": [
    "b=input()\n",
    "print(\"\\n\".join(b))"
   ]
  },
  {
   "cell_type": "code",
   "execution_count": 37,
   "metadata": {},
   "outputs": [
    {
     "name": "stdout",
     "output_type": "stream",
     "text": [
      "\\n God\n",
      "\n",
      " God\n"
     ]
    }
   ],
   "source": [
    "print(r\"\\n God\")  #r- raw string\n",
    "print(f\"\\n God\")  #f-formatted string"
   ]
  },
  {
   "cell_type": "code",
   "execution_count": 38,
   "metadata": {},
   "outputs": [
    {
     "name": "stdout",
     "output_type": "stream",
     "text": [
      "Good morningNirmal sir\n"
     ]
    }
   ],
   "source": [
    "a=input()\n",
    "print('Good morning'+ 'Nirmal sir')"
   ]
  },
  {
   "cell_type": "code",
   "execution_count": 39,
   "metadata": {},
   "outputs": [
    {
     "name": "stdout",
     "output_type": "stream",
     "text": [
      "Good morningRebecca\n"
     ]
    }
   ],
   "source": [
    "a=input()\n",
    "print(f'Good morning{a}')"
   ]
  },
  {
   "cell_type": "code",
   "execution_count": 42,
   "metadata": {},
   "outputs": [
    {
     "name": "stdout",
     "output_type": "stream",
     "text": [
      "2024-03-12 10:42:37.024118\n"
     ]
    }
   ],
   "source": [
    "import datetime\n",
    "print(datetime.datetime.now())   #to find today time"
   ]
  },
  {
   "cell_type": "code",
   "execution_count": 43,
   "metadata": {},
   "outputs": [
    {
     "name": "stdout",
     "output_type": "stream",
     "text": [
      "2024-03-12\n"
     ]
    }
   ],
   "source": [
    "import datetime\n",
    "print(datetime.date.today())   # to find today date"
   ]
  },
  {
   "cell_type": "code",
   "execution_count": 45,
   "metadata": {},
   "outputs": [
    {
     "name": "stdout",
     "output_type": "stream",
     "text": [
      "Welcome back Rebecca, The date and time is 2024-03-12 11:00:58.509143\n"
     ]
    }
   ],
   "source": [
    "a=input()\n",
    "import datetime\n",
    "print(f'Welcome back {a}, The date and time is',(datetime.datetime.now()))"
   ]
  },
  {
   "cell_type": "code",
   "execution_count": 48,
   "metadata": {},
   "outputs": [
    {
     "name": "stdout",
     "output_type": "stream",
     "text": [
      "Good morningRebeccaguvi\n"
     ]
    }
   ],
   "source": [
    "#string formatting\n",
    "import datetime\n",
    "print('Good morning{a}{b}'.format(a='Rebecca',b='guvi'))"
   ]
  },
  {
   "cell_type": "code",
   "execution_count": 46,
   "metadata": {},
   "outputs": [
    {
     "name": "stdout",
     "output_type": "stream",
     "text": [
      "{67, 89, 90, 555, 908, 45}\n"
     ]
    }
   ],
   "source": [
    "#set - {}\n",
    "#Removes the list duplicate in a set\n",
    "#Set is unordered\n",
    "\n",
    "a={45,67,89,90,908,555}\n",
    "print(a)\n"
   ]
  },
  {
   "cell_type": "code",
   "execution_count": 47,
   "metadata": {},
   "outputs": [
    {
     "name": "stdout",
     "output_type": "stream",
     "text": [
      "Rebecca\n"
     ]
    }
   ],
   "source": [
    "#Dictionary -{}\n",
    "#It is a key : value pair{k:v}\n",
    "#Dictionary is unordered before version 3.8 / 3.10 but now its ordered using hashtable(but index is not accesiable)\n",
    "\n",
    "a={'Name':'Rebecca','Age':29, 'City':'Chennai'}\n",
    "print(a['Name'])"
   ]
  },
  {
   "cell_type": "code",
   "execution_count": 49,
   "metadata": {},
   "outputs": [
    {
     "name": "stdout",
     "output_type": "stream",
     "text": [
      "{32, 98, 67, 23, 89, 45}\n"
     ]
    }
   ],
   "source": [
    "a={23,45,67,89,98,32}\n",
    "print(a)"
   ]
  },
  {
   "cell_type": "code",
   "execution_count": 59,
   "metadata": {},
   "outputs": [
    {
     "name": "stdout",
     "output_type": "stream",
     "text": [
      "{'name': 'Rebaca', 'age': '29', 'hobbies': ['singing', 'playing']}\n",
      "Rebaca\n",
      "{'name': 'Rebaca', 'age': '29', 'hobbies': ['singing', 'playing'], 'phone': 95660}\n",
      "{'name': 'Rebaca', 'age': '29', 'hobbies': ['singing', 'playing'], 'phone': 98413}\n",
      "{'name': 'Rebaca', 'hobbies': ['singing', 'playing'], 'phone': 98413}\n",
      "dict_keys(['name', 'hobbies', 'phone'])\n",
      "dict_values(['Rebaca', ['singing', 'playing'], 98413])\n",
      "dict_items([('name', 'Rebaca'), ('hobbies', ['singing', 'playing']), ('phone', 98413)])\n"
     ]
    }
   ],
   "source": [
    "a={\"name\":\"Rebaca\",\"age\":\"29\",\"hobbies\":[\"singing\",\"playing\"]}\n",
    "print(a)\n",
    "print(a[\"name\"])\n",
    "a[\"phone\"]=95660\n",
    "print(a)\n",
    "a[\"phone\"]=98413\n",
    "print(a)\n",
    "del a[\"age\"]\n",
    "print(a)\n",
    "print(a.keys())\n",
    "print(a.values())\n",
    "print(a.items())"
   ]
  },
  {
   "cell_type": "code",
   "execution_count": 60,
   "metadata": {},
   "outputs": [
    {
     "name": "stdout",
     "output_type": "stream",
     "text": [
      "{12: 12}\n",
      "{2: 2}\n",
      "{4: 4}\n",
      "{7: 7}\n",
      "{78: 78}\n"
     ]
    }
   ],
   "source": [
    "a=[12,2,4,7,78]\n",
    "for i in a:\n",
    "    print({i:i})"
   ]
  },
  {
   "cell_type": "code",
   "execution_count": 71,
   "metadata": {},
   "outputs": [
    {
     "name": "stdout",
     "output_type": "stream",
     "text": [
      "REBECCA DHANAPAL is of length 16\n"
     ]
    }
   ],
   "source": [
    "def upc(x):\n",
    "    y=x.upper()\n",
    "    z=len(x)\n",
    "\n",
    "    return y +\" is of length \" +str(z)\n",
    "\n",
    "\n",
    "a=upc(\"Rebecca Dhanapal\")\n",
    "print(a)"
   ]
  },
  {
   "cell_type": "code",
   "execution_count": 19,
   "metadata": {},
   "outputs": [
    {
     "ename": "SyntaxError",
     "evalue": "invalid syntax (3579452213.py, line 3)",
     "output_type": "error",
     "traceback": [
      "\u001b[1;36m  Cell \u001b[1;32mIn[19], line 3\u001b[1;36m\u001b[0m\n\u001b[1;33m    def savings(234,345,567):\u001b[0m\n\u001b[1;37m                ^\u001b[0m\n\u001b[1;31mSyntaxError\u001b[0m\u001b[1;31m:\u001b[0m invalid syntax\n"
     ]
    }
   ],
   "source": [
    "18-03-24\n",
    "#Types of Function Arguments in Python:Python has four built-in function argument types we can use to call functions and have them perform their intended tasks. These are:\n",
    "#Default Arguments,Keyword Arguments,Arbitrary Arguments,Required Arguments\n",
    "def savings(234,345,567):"
   ]
  },
  {
   "cell_type": "code",
   "execution_count": 2,
   "metadata": {},
   "outputs": [],
   "source": [
    "#default\n",
    "def bank (name,acc,accty=\"savings\"):\n",
    "    return name,acc,accty"
   ]
  },
  {
   "cell_type": "code",
   "execution_count": 4,
   "metadata": {},
   "outputs": [
    {
     "data": {
      "text/plain": [
       "('Rebecca', 2345, 'savings')"
      ]
     },
     "execution_count": 4,
     "metadata": {},
     "output_type": "execute_result"
    }
   ],
   "source": [
    "bank(\"Rebecca\",2345)\n"
   ]
  },
  {
   "cell_type": "code",
   "execution_count": 5,
   "metadata": {},
   "outputs": [
    {
     "data": {
      "text/plain": [
       "('Rebecca', 6789, 'demat')"
      ]
     },
     "execution_count": 5,
     "metadata": {},
     "output_type": "execute_result"
    }
   ],
   "source": [
    "bank(\"Rebecca\",6789,\"demat\")"
   ]
  },
  {
   "cell_type": "code",
   "execution_count": 8,
   "metadata": {},
   "outputs": [
    {
     "data": {
      "text/plain": [
       "(9806, 'rebi', 'FD')"
      ]
     },
     "execution_count": 8,
     "metadata": {},
     "output_type": "execute_result"
    }
   ],
   "source": [
    "#keyword argument\n",
    "bank(acc=\"rebi\",name=9806,accty=\"FD\")"
   ]
  },
  {
   "cell_type": "code",
   "execution_count": 9,
   "metadata": {},
   "outputs": [
    {
     "name": "stdout",
     "output_type": "stream",
     "text": [
      "2\n",
      "4\n",
      "5\n",
      "7\n",
      "8\n",
      "9\n",
      "123\n",
      "3\n",
      "1\n"
     ]
    }
   ],
   "source": [
    "#if arugments but i did not find how many \n",
    "# *->take the data in the specified assigned variable( Arbitrary Arguments)\n",
    "def problem(*data):\n",
    "    \n",
    "    for i in data:\n",
    "        print(i)\n",
    "\n",
    "\n",
    "problem(2,4,5,7,8,9,123,3,1)"
   ]
  },
  {
   "cell_type": "code",
   "execution_count": 11,
   "metadata": {},
   "outputs": [
    {
     "name": "stdout",
     "output_type": "stream",
     "text": [
      "Rebi dp red\n",
      "2\n",
      "4\n",
      "5\n",
      "7\n",
      "8\n",
      "9\n",
      "123\n",
      "3\n",
      "1\n"
     ]
    }
   ],
   "source": [
    "def problem(name,dp,*data,color=\"green\"):\n",
    "    print(name,dp,color)\n",
    "    \n",
    "    for i in data:\n",
    "        print(i)\n",
    "\n",
    "\n",
    "problem(\"Rebi\",\"dp\",2,4,5,7,8,9,123,3,1,color=\"red\")"
   ]
  },
  {
   "cell_type": "code",
   "execution_count": null,
   "metadata": {},
   "outputs": [],
   "source": [
    "def problem(name,dp,*data,color=\"green\"):\n",
    "    print(name,dp,color)\n",
    "    \n",
    "    for i in data:\n",
    "        print(i)\n",
    "\n",
    "\n",
    "problem(\"Rebi\",\"dp\",2,4,5,7,8,9,123,3,1,color=\"red\")"
   ]
  },
  {
   "cell_type": "code",
   "execution_count": 15,
   "metadata": {},
   "outputs": [],
   "source": [
    "#what are the function arguments in python?\n",
    "def guvi(**rj):\n",
    "    print(rj)\n",
    "    print(rj.keys())\n",
    "    print(rj.values())\n",
    "    print(rj.items())\n",
    "    return rj.keys()"
   ]
  },
  {
   "cell_type": "code",
   "execution_count": 16,
   "metadata": {},
   "outputs": [
    {
     "name": "stdout",
     "output_type": "stream",
     "text": [
      "{'name': 'immu', 'tech': 'data', 'land': 'US'}\n",
      "dict_keys(['name', 'tech', 'land'])\n",
      "dict_values(['immu', 'data', 'US'])\n",
      "dict_items([('name', 'immu'), ('tech', 'data'), ('land', 'US')])\n"
     ]
    },
    {
     "data": {
      "text/plain": [
       "dict_keys(['name', 'tech', 'land'])"
      ]
     },
     "execution_count": 16,
     "metadata": {},
     "output_type": "execute_result"
    }
   ],
   "source": [
    "guvi(name=\"immu\",tech=\"data\",land=\"US\")"
   ]
  },
  {
   "cell_type": "code",
   "execution_count": 61,
   "metadata": {},
   "outputs": [],
   "source": [
    "#higher order function(re)\n",
    "def rebi(x):\n",
    "    if x.islower():\n",
    "        return True\n",
    "    else:\n",
    "        return False\n",
    "    \n",
    "\n",
    "def validation(x):\n",
    "    if x.isalpha() and rebi(x):\n",
    "        return \"all good\"\n",
    "    else:\n",
    "        return \"something wrong\""
   ]
  },
  {
   "cell_type": "code",
   "execution_count": 62,
   "metadata": {},
   "outputs": [
    {
     "data": {
      "text/plain": [
       "'something wrong'"
      ]
     },
     "execution_count": 62,
     "metadata": {},
     "output_type": "execute_result"
    }
   ],
   "source": [
    "validation(\"Rebi\")"
   ]
  },
  {
   "cell_type": "code",
   "execution_count": 58,
   "metadata": {},
   "outputs": [],
   "source": [
    "#higher order function(re)\n",
    "def rebi(x):\n",
    "    if x.islower():\n",
    "        return True\n",
    "    else:\n",
    "        return False\n",
    "    \n",
    "\n",
    "def validation(x,rr):\n",
    "    if x.isalpha() and rr(x):\n",
    "        return \"all good\"\n",
    "    else:\n",
    "        return \"something wrong\""
   ]
  },
  {
   "cell_type": "code",
   "execution_count": 66,
   "metadata": {},
   "outputs": [
    {
     "data": {
      "text/plain": [
       "'something wrong'"
      ]
     },
     "execution_count": 66,
     "metadata": {},
     "output_type": "execute_result"
    }
   ],
   "source": [
    "validation(\"Rebi\",)"
   ]
  },
  {
   "cell_type": "code",
   "execution_count": 35,
   "metadata": {},
   "outputs": [
    {
     "name": "stdout",
     "output_type": "stream",
     "text": [
      "120\n"
     ]
    }
   ],
   "source": [
    "def factorial(n):\n",
    "    #Base case: if n is 0 or 1\n",
    "    if n in (0,1):\n",
    "        return 1\n",
    "    #Recursive case: n! = n * (n-1)!\n",
    "    else:\n",
    "        return n * factorial(n-1)\n",
    "    \n",
    "# Example usage\n",
    "print(factorial(5))"
   ]
  },
  {
   "cell_type": "code",
   "execution_count": 70,
   "metadata": {},
   "outputs": [
    {
     "name": "stdout",
     "output_type": "stream",
     "text": [
      "10\n",
      "120\n",
      "12\n"
     ]
    }
   ],
   "source": [
    "#using global keyword\n",
    "d=10\n",
    "\n",
    "def pr():\n",
    "    global d\n",
    "    d=d+2\n",
    "    s=d*10\n",
    "    return s\n",
    "\n",
    "print(d)\n",
    "print(pr())\n",
    "print(d)"
   ]
  },
  {
   "cell_type": "code",
   "execution_count": 73,
   "metadata": {},
   "outputs": [
    {
     "name": "stdout",
     "output_type": "stream",
     "text": [
      "20\n"
     ]
    }
   ],
   "source": [
    "19-3-24\n",
    "#lambda funcrion-\n",
    "#syntax lambda arguments:expressions\n",
    "x=lambda a:a+15\n",
    "print(x(5))"
   ]
  },
  {
   "cell_type": "code",
   "execution_count": 75,
   "metadata": {},
   "outputs": [
    {
     "name": "stdout",
     "output_type": "stream",
     "text": [
      "odd\n"
     ]
    }
   ],
   "source": [
    "a=lambda a : \"even\" if a%2==0 else \"odd\"\n",
    "\n",
    "print(a(11))\n"
   ]
  },
  {
   "cell_type": "code",
   "execution_count": 84,
   "metadata": {},
   "outputs": [
    {
     "name": "stdout",
     "output_type": "stream",
     "text": [
      "[24, 32]\n"
     ]
    }
   ],
   "source": [
    "#filter funtion\n",
    "\n",
    "\n",
    "ages = [5,12,17,18,24,32]\n",
    "\n",
    "def adult(x):\n",
    "    if x < 20:\n",
    "        return False\n",
    "    else:\n",
    "        return True\n",
    "    \n",
    "adults = filter(adult, ages)\n",
    "\n",
    "print(list(adults))\n"
   ]
  },
  {
   "cell_type": "code",
   "execution_count": 85,
   "metadata": {},
   "outputs": [
    {
     "name": "stdout",
     "output_type": "stream",
     "text": [
      "[]\n"
     ]
    }
   ],
   "source": [
    "name=[\"rebi\",\"immu\",\"jenis\",\"Jebi\"]\n",
    "\n",
    "a=filter(lambda x:True if \"a\" in x else False ,name)\n",
    "\n",
    "print(list(a))\n"
   ]
  },
  {
   "cell_type": "code",
   "execution_count": 89,
   "metadata": {},
   "outputs": [
    {
     "name": "stdout",
     "output_type": "stream",
     "text": [
      "['jenis', 'jebi']\n"
     ]
    }
   ],
   "source": [
    "name=[\"rebi\",\"immu\",\"jenis\",\"jebi\"]\n",
    "\n",
    "def rty(x):\n",
    "    if \"a\" and \"j\" in x:  # j is going search in the given name variable\n",
    "        return True\n",
    "    else:\n",
    "        return False\n",
    "    \n",
    "\n",
    "\n",
    "a=filter(lambda x:True if \"a\" in x else False ,name)\n",
    "a=filter(rty,name)\n",
    "print(list(a))\n"
   ]
  },
  {
   "cell_type": "code",
   "execution_count": 91,
   "metadata": {},
   "outputs": [
    {
     "name": "stdout",
     "output_type": "stream",
     "text": [
      "['BALL', 'MOBILE', 'IPAD']\n"
     ]
    }
   ],
   "source": [
    "#map-returns a map object(which is an iterator) of the results after applying the given function to each item of a given iterable (list, tuple,etc.)\n",
    "#Syntax: map(function, iterables)\n",
    "\n",
    "def game(n):\n",
    "    return n.upper()\n",
    "\n",
    "x = map(game, ('ball', 'mobile','ipad'))\n",
    "#print(x)\n",
    "print(list(x))\n",
    "\n"
   ]
  },
  {
   "cell_type": "code",
   "execution_count": 92,
   "metadata": {},
   "outputs": [
    {
     "name": "stdout",
     "output_type": "stream",
     "text": [
      "7\n",
      "5\n"
     ]
    }
   ],
   "source": [
    "print(len(\"rtyuiop\"))\n",
    "print(len([1,2,3,4,5]))"
   ]
  },
  {
   "cell_type": "code",
   "execution_count": 99,
   "metadata": {},
   "outputs": [
    {
     "name": "stdout",
     "output_type": "stream",
     "text": [
      "Immu is very naughty boy\n",
      "[1, 3, 2, 4, 2]\n"
     ]
    }
   ],
   "source": [
    "a=\"Immu is very naughty boy\"\n",
    "\n",
    "b=\"1 3 2 4 2\"\n",
    "x=map(int,b.split())\n",
    "\n",
    "print(a)\n",
    "print(list(x))"
   ]
  },
  {
   "cell_type": "code",
   "execution_count": 106,
   "metadata": {},
   "outputs": [
    {
     "name": "stdout",
     "output_type": "stream",
     "text": [
      "data science course\n",
      "data science course\n"
     ]
    }
   ],
   "source": [
    "#Almost everything in Python is an object, with its properties and methods.A Class is like an object constructor, or a \"blueprint\" for creating objects.\n",
    "#class - To create a class, use the keyword class:\n",
    "#objects - we can use the class named MyClass to create objects:\n",
    "class rebi():\n",
    "    x=\"data science course\"           #class creation\n",
    "\n",
    "\n",
    "\n",
    "a=rebi()\n",
    "b=rebi()                              #object creation\n",
    "print(a.x)\n",
    "print(b.x)"
   ]
  },
  {
   "cell_type": "code",
   "execution_count": 107,
   "metadata": {},
   "outputs": [],
   "source": [
    "#The __init__() Function - built in function\n",
    "#All classes have a function called __init__(), which is always executed when the class is being initiated.\n",
    "#Use the __init__() function to assign values to object properties, or other operations that are necessary to do when the object is being created:\n",
    "\n",
    "class human():\n",
    "    def _int_(self):\n",
    "        pass\n",
    "    \n",
    "    def kidney(self):\n",
    "        return \"purifies blood\""
   ]
  },
  {
   "cell_type": "code",
   "execution_count": 108,
   "metadata": {},
   "outputs": [],
   "source": [
    "rebi=human()\n",
    "guvi=human()"
   ]
  },
  {
   "cell_type": "code",
   "execution_count": 109,
   "metadata": {},
   "outputs": [
    {
     "data": {
      "text/plain": [
       "'purifies blood'"
      ]
     },
     "execution_count": 109,
     "metadata": {},
     "output_type": "execute_result"
    }
   ],
   "source": [
    "rebi.kidney()"
   ]
  },
  {
   "cell_type": "code",
   "execution_count": 111,
   "metadata": {},
   "outputs": [
    {
     "name": "stdout",
     "output_type": "stream",
     "text": [
      "Immu\n",
      "22\n"
     ]
    }
   ],
   "source": [
    "class Person:\n",
    "  def __init__(self, name, age):\n",
    "    self.name = name\n",
    "    self.age = age\n",
    "\n",
    "p1 = Person(\"Immu\", 22)\n",
    "\n",
    "print(p1.name)\n",
    "print(p1.age)"
   ]
  },
  {
   "cell_type": "code",
   "execution_count": 124,
   "metadata": {},
   "outputs": [],
   "source": [
    "class bank():\n",
    "    def __init__(self,name,acc,bal):\n",
    "        self.name=name\n",
    "        self.acc=acc\n",
    "        self.bal=bal\n",
    "\n",
    "    def deposite(self,amount):\n",
    "        self.bal=self.bal+amount\n",
    "        return \"your balance is\" +str(self.bal)\n",
    "    "
   ]
  },
  {
   "cell_type": "code",
   "execution_count": 125,
   "metadata": {},
   "outputs": [],
   "source": [
    "apollo=bank(\"apollopvt\",234,120000)"
   ]
  },
  {
   "cell_type": "code",
   "execution_count": 126,
   "metadata": {},
   "outputs": [],
   "source": [
    "rebi=bank(\"rebi\",456,10000)"
   ]
  },
  {
   "cell_type": "code",
   "execution_count": 127,
   "metadata": {},
   "outputs": [
    {
     "data": {
      "text/plain": [
       "10000"
      ]
     },
     "execution_count": 127,
     "metadata": {},
     "output_type": "execute_result"
    }
   ],
   "source": [
    "rebi.bal"
   ]
  },
  {
   "cell_type": "code",
   "execution_count": 128,
   "metadata": {},
   "outputs": [
    {
     "data": {
      "text/plain": [
       "234"
      ]
     },
     "execution_count": 128,
     "metadata": {},
     "output_type": "execute_result"
    }
   ],
   "source": [
    "apollo.acc"
   ]
  },
  {
   "cell_type": "code",
   "execution_count": 129,
   "metadata": {},
   "outputs": [
    {
     "data": {
      "text/plain": [
       "'your balance is10100'"
      ]
     },
     "execution_count": 129,
     "metadata": {},
     "output_type": "execute_result"
    }
   ],
   "source": [
    "rebi.deposite(100)"
   ]
  },
  {
   "cell_type": "code",
   "execution_count": 130,
   "metadata": {},
   "outputs": [
    {
     "data": {
      "text/plain": [
       "'your balance is132000'"
      ]
     },
     "execution_count": 130,
     "metadata": {},
     "output_type": "execute_result"
    }
   ],
   "source": [
    "apollo.deposite(12000)"
   ]
  },
  {
   "cell_type": "code",
   "execution_count": null,
   "metadata": {},
   "outputs": [],
   "source": [
    "20-03-2024\n",
    "#Inheritance- Inheritance allows us to define a class that inherits all the methods and properties from another class.\n",
    "\n",
    "#Parent class is the class being inherited from, also called base class.\n",
    "\n",
    "#Child class is the class that inherits from another class, also called derived class."
   ]
  },
  {
   "cell_type": "code",
   "execution_count": 15,
   "metadata": {},
   "outputs": [],
   "source": [
    "#example son will inherit father methods\n",
    "class father():\n",
    "    def hair(self):\n",
    "        return \"black hair\"\n",
    "    \n",
    "class son(father):\n",
    "    def hands(self):\n",
    "        return\"two\"\n",
    "    "
   ]
  },
  {
   "cell_type": "code",
   "execution_count": 17,
   "metadata": {},
   "outputs": [
    {
     "data": {
      "text/plain": [
       "'two'"
      ]
     },
     "execution_count": 17,
     "metadata": {},
     "output_type": "execute_result"
    }
   ],
   "source": [
    "a=son()\n",
    "a.hair()\n",
    "a.hands()"
   ]
  },
  {
   "cell_type": "code",
   "execution_count": 19,
   "metadata": {},
   "outputs": [
    {
     "data": {
      "text/plain": [
       "'two'"
      ]
     },
     "execution_count": 19,
     "metadata": {},
     "output_type": "execute_result"
    }
   ],
   "source": [
    "#package creation\n",
    "\n",
    "import inh as g\n",
    "\n",
    "a=g.son()\n",
    "a.hands()"
   ]
  },
  {
   "cell_type": "code",
   "execution_count": 20,
   "metadata": {},
   "outputs": [],
   "source": [
    "#multi level inheritance\n",
    "class father():\n",
    "    def hair(self):\n",
    "        return \"black hair\"\n",
    "    \n",
    "class son(father):\n",
    "    def hands(self):\n",
    "        return\"two\"\n",
    "\n",
    "class grandson(son):\n",
    "    def brain(self):\n",
    "        return \"IQ 100\""
   ]
  },
  {
   "cell_type": "code",
   "execution_count": 21,
   "metadata": {},
   "outputs": [
    {
     "name": "stdout",
     "output_type": "stream",
     "text": [
      "black hair\n",
      "two\n",
      "IQ 100\n"
     ]
    }
   ],
   "source": [
    "a=grandson()\n",
    "print(a.hair())\n",
    "print(a.hands())\n",
    "print(a.brain())"
   ]
  },
  {
   "cell_type": "code",
   "execution_count": 22,
   "metadata": {},
   "outputs": [],
   "source": [
    "#multiple inheritance\n",
    "class father():\n",
    "    def hair(self):\n",
    "        return \"black hair\"\n",
    "\n",
    "class mother():\n",
    "    def love(self):\n",
    "        return \"Endless love\"    \n",
    "    \n",
    "class son(father,mother):\n",
    "    def hands(self):\n",
    "        return\"two\"\n",
    "#Except grandson we going to execute this for multiple inheritance\n",
    "class grandson(son):\n",
    "    def brain(self):\n",
    "        return \"IQ 100\""
   ]
  },
  {
   "cell_type": "code",
   "execution_count": 23,
   "metadata": {},
   "outputs": [
    {
     "name": "stdout",
     "output_type": "stream",
     "text": [
      "black hair\n",
      "two\n",
      "Endless love\n"
     ]
    }
   ],
   "source": [
    "a=grandson()\n",
    "print(a.hair())\n",
    "print(a.hands())\n",
    "print(a.love())"
   ]
  },
  {
   "cell_type": "code",
   "execution_count": null,
   "metadata": {},
   "outputs": [],
   "source": [
    "#\"polymorphism\" means \"many forms\", and in programming it refers to methods/functions/operators with the same name that can be executed on many objects or classes."
   ]
  },
  {
   "cell_type": "code",
   "execution_count": 24,
   "metadata": {},
   "outputs": [],
   "source": [
    "class father():\n",
    "    def hair(self):\n",
    "        return \"black hair\"\n",
    "\n",
    "class mother():\n",
    "    def love(self):\n",
    "        return \"Endless love\"    \n",
    "    \n",
    "class son(father,mother):\n",
    "    def hands(self):\n",
    "        return\"two\"\n",
    "\n",
    "class grandson(son):\n",
    "    def brain(self):\n",
    "        return \"IQ 100\"\n",
    "    def nose(self):\n",
    "        return \"one\""
   ]
  },
  {
   "cell_type": "code",
   "execution_count": 25,
   "metadata": {},
   "outputs": [
    {
     "name": "stdout",
     "output_type": "stream",
     "text": [
      "one\n"
     ]
    }
   ],
   "source": [
    "a=grandson()\n",
    "print(a.nose())"
   ]
  },
  {
   "cell_type": "code",
   "execution_count": null,
   "metadata": {},
   "outputs": [],
   "source": [
    "#Encapsulation is one of the fundamental concepts in object-oriented programming (OOP). It describes the idea of wrapping data and the methods that work on data within one unit. \n",
    "#This puts restrictions on accessing variables and methods directly and can prevent the accidental modification of data"
   ]
  },
  {
   "cell_type": "code",
   "execution_count": 26,
   "metadata": {},
   "outputs": [
    {
     "name": "stdout",
     "output_type": "stream",
     "text": [
      "100\n",
      "1000000\n",
      "-500\n"
     ]
    }
   ],
   "source": [
    "#without encapsulation\n",
    "class BankAccount:\n",
    "   def __init__(self, account_number, balance):\n",
    "       self.account_number = account_number\n",
    "       self.balance = balance  # Public attribute\n",
    "\n",
    "\n",
    "   def deposit(self, amount):\n",
    "       self.balance += amount\n",
    "       return self.balance\n",
    "\n",
    "\n",
    "   def withdraw(self, amount):\n",
    "       if amount > self.balance:\n",
    "           print(\"Insufficient funds!\")\n",
    "           return\n",
    "       self.balance -= amount\n",
    "       return self.balance\n",
    "\n",
    "\n",
    "   def get_balance(self):\n",
    "       return self.balance\n",
    "account = BankAccount(\"123456789\", 100)\n",
    "print(account.get_balance())  # 100\n",
    "\n",
    "\n",
    "# With the balance being public, we can change it directly, potentially causing data inconsistency or misuse:\n",
    "account.balance = 1000000\n",
    "print(account.get_balance())  # 1000000\n",
    "\n",
    "\n",
    "# Or even set it to nonsensical values:\n",
    "account.balance = -500\n",
    "print(account.get_balance())  # -500\n",
    "\n",
    "\n"
   ]
  },
  {
   "cell_type": "code",
   "execution_count": null,
   "metadata": {},
   "outputs": [],
   "source": [
    "#with encapsulation\n",
    "class BankAccount:\n",
    "   def __init__(self, account_number, balance):\n",
    "       self.account_number = account_number\n",
    "       self.__balance = balance  # Private attribute\n",
    "\n",
    "\n",
    "   def deposit(self, amount):\n",
    "       self.__balance += amount\n",
    "       return self.__balance\n",
    "\n",
    "\n",
    "   def withdraw(self, amount):\n",
    "       if amount > self.__balance:\n",
    "           print(\"Insufficient funds!\")\n",
    "           return\n",
    "       self.__balance -= amount\n",
    "       return self.__balance\n",
    "\n",
    "\n",
    "   def get_balance(self):\n",
    "       return self.__balance\n",
    "\n",
    "\n",
    "\n",
    "\n",
    "account = BankAccount(\"123456789\", 100)\n",
    "print(account.get_balance())  # 100\n",
    "\n",
    "\n",
    "# With the balance being public, we can change it directly, potentially causing data inconsistency or misuse:\n",
    "account.balance = 1000000\n",
    "print(account.get_balance())  # 1000000\n",
    "\n",
    "\n",
    "# Or even set it to nonsensical values:\n",
    "#account.balance = -500\n",
    "print(account.get_balance())  # -500\n",
    "\n",
    "\n",
    "account.deposit(10000)\n",
    "print(account.get_balance())\n"
   ]
  },
  {
   "cell_type": "code",
   "execution_count": 29,
   "metadata": {},
   "outputs": [
    {
     "name": "stderr",
     "output_type": "stream",
     "text": [
      "A subdirectory or file rebi already exists.\n"
     ]
    }
   ],
   "source": [
    "#File and folder handling\n",
    "\n",
    "#create new folder mkdir-make directory\n",
    "\n",
    "!mkdir rebi\n",
    "\n",
    "#in desktop - to create in computer enter the full path\n",
    "!mkdir user desktop rebaca"
   ]
  },
  {
   "cell_type": "code",
   "execution_count": 34,
   "metadata": {},
   "outputs": [
    {
     "ename": "FileExistsError",
     "evalue": "[WinError 183] Cannot create a file when that file already exists: 'rebirebaca'",
     "output_type": "error",
     "traceback": [
      "\u001b[1;31m---------------------------------------------------------------------------\u001b[0m",
      "\u001b[1;31mFileExistsError\u001b[0m                           Traceback (most recent call last)",
      "Cell \u001b[1;32mIn[34], line 3\u001b[0m\n\u001b[0;32m      1\u001b[0m \u001b[38;5;66;03m#to create a folder in python\u001b[39;00m\n\u001b[0;32m      2\u001b[0m \u001b[38;5;28;01mimport\u001b[39;00m \u001b[38;5;21;01mos\u001b[39;00m\n\u001b[1;32m----> 3\u001b[0m \u001b[43mos\u001b[49m\u001b[38;5;241;43m.\u001b[39;49m\u001b[43mmkdir\u001b[49m\u001b[43m(\u001b[49m\u001b[38;5;124;43m\"\u001b[39;49m\u001b[38;5;124;43mrebirebaca\u001b[39;49m\u001b[38;5;124;43m\"\u001b[39;49m\u001b[43m)\u001b[49m\n",
      "\u001b[1;31mFileExistsError\u001b[0m: [WinError 183] Cannot create a file when that file already exists: 'rebirebaca'"
     ]
    }
   ],
   "source": [
    "#to create a folder in python\n",
    "import os\n",
    "os.mkdir(\"rebirebaca\")"
   ]
  },
  {
   "cell_type": "code",
   "execution_count": 32,
   "metadata": {},
   "outputs": [],
   "source": [
    "a=[\"dhanapal\",\"Stella\",\"Jenis\",\"Glory\"]\n",
    "import os\n",
    "for i in a:\n",
    "    os.mkdir(i)"
   ]
  },
  {
   "cell_type": "code",
   "execution_count": null,
   "metadata": {},
   "outputs": [],
   "source": []
  },
  {
   "cell_type": "code",
   "execution_count": null,
   "metadata": {},
   "outputs": [],
   "source": []
  },
  {
   "cell_type": "code",
   "execution_count": null,
   "metadata": {},
   "outputs": [],
   "source": []
  },
  {
   "cell_type": "code",
   "execution_count": null,
   "metadata": {},
   "outputs": [],
   "source": []
  }
 ],
 "metadata": {
  "kernelspec": {
   "display_name": "Python 3",
   "language": "python",
   "name": "python3"
  },
  "language_info": {
   "codemirror_mode": {
    "name": "ipython",
    "version": 3
   },
   "file_extension": ".py",
   "mimetype": "text/x-python",
   "name": "python",
   "nbconvert_exporter": "python",
   "pygments_lexer": "ipython3",
   "version": "3.12.2"
  }
 },
 "nbformat": 4,
 "nbformat_minor": 2
}
